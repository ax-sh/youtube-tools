{
 "cells": [
  {
   "cell_type": "code",
   "execution_count": 1,
   "id": "ec7d1545-3c13-4284-aa9e-24810c1d38da",
   "metadata": {},
   "outputs": [],
   "source": [
    "# yt-dlp  --cookies-from-browser vivaldi -j --lazy-playlist --flat-playlist --skip-download --extractor-args youtubetab:approximate_date \"https://www.youtube.com/playlist?list=WL\" | jq -r \"[.upload_date, .view_count, .duration, .url, .title,  (.thumbnails | max_by(.width) | .url)] | @tsv\" > wl.tsv"
   ]
  },
  {
   "cell_type": "code",
   "execution_count": 2,
   "id": "85be0f10-c02c-41f9-9fcf-0628f0ab7600",
   "metadata": {},
   "outputs": [
    {
     "name": "stderr",
     "output_type": "stream",
     "text": [
      "WARNING: [youtube:tab] YouTube said: INFO - Unavailable videos are hidden\n"
     ]
    }
   ],
   "source": [
    "!yt-dlp  --cookies-from-browser vivaldi -j --lazy-playlist --flat-playlist --skip-download --extractor-args youtubetab:approximate_date \"https://www.youtube.com/playlist?list=WL\" | jq -r \"[.upload_date, .view_count, .duration, .url, .title,  (.thumbnails | max_by(.width) | .url)] | @tsv\" > wl.tsv"
   ]
  },
  {
   "cell_type": "code",
   "execution_count": 3,
   "id": "fba5cac3-943a-4c27-b2c7-c10a089a134e",
   "metadata": {},
   "outputs": [],
   "source": [
    "from youtube_tools.utils import path"
   ]
  },
  {
   "cell_type": "code",
   "execution_count": null,
   "id": "327a0a42-2e00-4d42-840a-0f0824a6f271",
   "metadata": {},
   "outputs": [],
   "source": []
  }
 ],
 "metadata": {
  "kernelspec": {
   "display_name": "Python 3 (ipykernel)",
   "language": "python",
   "name": "python3"
  },
  "language_info": {
   "codemirror_mode": {
    "name": "ipython",
    "version": 3
   },
   "file_extension": ".py",
   "mimetype": "text/x-python",
   "name": "python",
   "nbconvert_exporter": "python",
   "pygments_lexer": "ipython3",
   "version": "3.11.3"
  }
 },
 "nbformat": 4,
 "nbformat_minor": 5
}

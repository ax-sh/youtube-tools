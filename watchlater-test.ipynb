{
 "cells": [
  {
   "cell_type": "code",
   "execution_count": 1,
   "id": "ec7d1545-3c13-4284-aa9e-24810c1d38da",
   "metadata": {},
   "outputs": [],
   "source": [
    "# yt-dlp  --cookies-from-browser vivaldi -j --lazy-playlist --flat-playlist --skip-download --extractor-args youtubetab:approximate_date \"https://www.youtube.com/playlist?list=WL\" | jq -r \"[.upload_date, .view_count, .duration, .url, .title,  (.thumbnails | max_by(.width) | .url)] | @tsv\" > wl.tsv"
   ]
  },
  {
   "cell_type": "code",
   "execution_count": 2,
   "id": "85be0f10-c02c-41f9-9fcf-0628f0ab7600",
   "metadata": {},
   "outputs": [
    {
     "name": "stderr",
     "output_type": "stream",
     "text": [
      "WARNING: [youtube:tab] YouTube said: INFO - Unavailable videos are hidden\n"
     ]
    }
   ],
   "source": [
    "!yt-dlp  --cookies-from-browser vivaldi -j --lazy-playlist --flat-playlist --skip-download --extractor-args youtubetab:approximate_date \"https://www.youtube.com/playlist?list=WL\" | jq -r \"[.upload_date, .view_count, .duration, .url, .title,  (.thumbnails | max_by(.width) | .url)] | @tsv\" > wl.tsv"
   ]
  },
  {
   "cell_type": "code",
   "execution_count": 3,
   "id": "d59871a8-c4a3-4790-996c-fa7f8aff385c",
   "metadata": {},
   "outputs": [],
   "source": [
    "from pathlib import Path"
   ]
  },
  {
   "cell_type": "code",
   "execution_count": 8,
   "id": "fba5cac3-943a-4c27-b2c7-c10a089a134e",
   "metadata": {},
   "outputs": [
    {
     "ename": "NameError",
     "evalue": "name '__file__' is not defined",
     "output_type": "error",
     "traceback": [
      "\u001b[1;31m---------------------------------------------------------------------------\u001b[0m",
      "\u001b[1;31mNameError\u001b[0m                                 Traceback (most recent call last)",
      "Cell \u001b[1;32mIn[8], line 1\u001b[0m\n\u001b[1;32m----> 1\u001b[0m Path(\u001b[38;5;18;43m__file__\u001b[39;49m)\n",
      "\u001b[1;31mNameError\u001b[0m: name '__file__' is not defined"
     ]
    }
   ],
   "source": [
    "Path(__file__)"
   ]
  },
  {
   "cell_type": "code",
   "execution_count": null,
   "id": "327a0a42-2e00-4d42-840a-0f0824a6f271",
   "metadata": {},
   "outputs": [],
   "source": []
  }
 ],
 "metadata": {
  "kernelspec": {
   "display_name": "Python 3 (ipykernel)",
   "language": "python",
   "name": "python3"
  },
  "language_info": {
   "codemirror_mode": {
    "name": "ipython",
    "version": 3
   },
   "file_extension": ".py",
   "mimetype": "text/x-python",
   "name": "python",
   "nbconvert_exporter": "python",
   "pygments_lexer": "ipython3",
   "version": "3.10.9"
  }
 },
 "nbformat": 4,
 "nbformat_minor": 5
}
